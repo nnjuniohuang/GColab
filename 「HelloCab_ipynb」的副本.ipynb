{
  "nbformat": 4,
  "nbformat_minor": 0,
  "metadata": {
    "colab": {
      "provenance": [],
      "gpuType": "T4",
      "authorship_tag": "ABX9TyPgKVBUvhAPE/PD5yNpOdNW",
      "include_colab_link": true
    },
    "kernelspec": {
      "name": "python3",
      "display_name": "Python 3"
    },
    "language_info": {
      "name": "python"
    },
    "accelerator": "GPU"
  },
  "cells": [
    {
      "cell_type": "markdown",
      "metadata": {
        "id": "view-in-github",
        "colab_type": "text"
      },
      "source": [
        "<a href=\"https://colab.research.google.com/github/nnjuniohuang/GColab/blob/main/%E3%80%8CHelloCab_ipynb%E3%80%8D%E7%9A%84%E5%89%AF%E6%9C%AC.ipynb\" target=\"_parent\"><img src=\"https://colab.research.google.com/assets/colab-badge.svg\" alt=\"Open In Colab\"/></a>"
      ]
    },
    {
      "cell_type": "code",
      "execution_count": 1,
      "metadata": {
        "id": "I5hv1MpgaEpq",
        "colab": {
          "base_uri": "https://localhost:8080/"
        },
        "outputId": "fb0fe5a0-d146-4be0-a7f1-ee5ab5ac3e77"
      },
      "outputs": [
        {
          "output_type": "stream",
          "name": "stdout",
          "text": [
            "hello test\n",
            "86400\n"
          ]
        }
      ],
      "source": [
        "print('hello test')\n",
        "seconds_in_a_day=24*60*60\n",
        "print(seconds_in_a_day)"
      ]
    }
  ]
}